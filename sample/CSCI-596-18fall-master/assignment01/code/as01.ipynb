{
 "cells": [
  {
   "cell_type": "markdown",
   "metadata": {},
   "source": [
    "# Assignment 01"
   ]
  },
  {
   "cell_type": "markdown",
   "metadata": {},
   "source": [
    "## Part I. Computational Complexity and Flop/s Performance\n",
    "### I-1. Measuring Computational Complexity\n",
    "Make a log-log plot of T vs. N using data from ``MDtime.out``"
   ]
  },
  {
   "cell_type": "code",
   "execution_count": 1,
   "metadata": {},
   "outputs": [],
   "source": [
    "from matplotlib import pyplot as plt\n",
    "import numpy as np\n",
    "data_path = './MDtime.txt'\n",
    "data = np.loadtxt(data_path)"
   ]
  },
  {
   "cell_type": "code",
   "execution_count": 2,
   "metadata": {},
   "outputs": [],
   "source": [
    "N_data = data[:,0]\n",
    "log10N = np.log10(N_data)\n",
    "T_data = data[:,1]\n",
    "log10T = np.log10(T_data)"
   ]
  },
  {
   "cell_type": "code",
   "execution_count": 3,
   "metadata": {},
   "outputs": [
    {
     "data": {
      "image/png": "[encoded data removed]",
      "text/plain": [
       "<Figure size 432x288 with 1 Axes>"
      ]
     },
     "metadata": {},
     "output_type": "display_data"
    }
   ],
   "source": [
    "plt.plot(log10N, log10T,'ro-')\n",
    "plt.xlabel('$log_{10}(N)$')\n",
    "plt.ylabel('$log_{10}(T)$')\n",
    "plt.title('log-log plot of T vs. N')\n",
    "plt.xlim((3.4,5.0))\n",
    "plt.ylim((-0.5,2.5))\n",
    "plt.grid(True)\n",
    "plt.savefig('./log10N_log10T_plot.png',dpi=200)"
   ]
  },
  {
   "cell_type": "markdown",
   "metadata": {},
   "source": [
    "Perform linear fit of $log(T)$ vs. $log(N)$, i.e., $log(T) = \\alpha log(N) + \\beta$.\n",
    "\n",
    "It is easy to know that $$\\theta = (X^T X)^{-1} X^T \\vec{y},$$ where $\\vec{y} = [log(T_1), \\cdots, log(T_k)]^T$, $\\theta = [\\alpha ,\\, \\beta ]^T$, and\n",
    "\n",
    "$$\n",
    "X = \\begin{bmatrix}\n",
    "    log(N_1)   & 1 \\\\\n",
    "    log(N_2)   & 1 \\\\\n",
    "    \\vdots \\\\\n",
    "    log(N_k) & 1\n",
    "\\end{bmatrix}$$"
   ]
  },
  {
   "cell_type": "code",
   "execution_count": 4,
   "metadata": {},
   "outputs": [],
   "source": [
    "X = np.hstack((log10N.reshape(len(log10N), 1), np.ones(shape=(len(log10N),1))))\n",
    "y = log10T.reshape(len(log10T), 1)"
   ]
  },
  {
   "cell_type": "code",
   "execution_count": 5,
   "metadata": {},
   "outputs": [
    {
     "name": "stdout",
     "output_type": "stream",
     "text": [
      "alpha = 1.9506, beta = -7.2767\n",
      "That is\n",
      " logT = 1.9506 * logN -7.2767\n"
     ]
    }
   ],
   "source": [
    "pinv = np.linalg.pinv(np.matmul(X.T, X))\n",
    "theta = np.matmul(np.matmul(pinv, X.T), y)\n",
    "print('alpha = %.4f, beta = %.4f' % (theta[0], theta[1]))\n",
    "print('That is\\n logT = %.4f * logN %.4f' % (theta[0], theta[1]))"
   ]
  },
  {
   "cell_type": "code",
   "execution_count": null,
   "metadata": {},
   "outputs": [],
   "source": []
  }
 ],
 "metadata": {
  "kernelspec": {
   "display_name": "Python 2",
   "language": "python",
   "name": "python2"
  },
  "language_info": {
   "codemirror_mode": {
    "name": "ipython",
    "version": 2
   },
   "file_extension": ".py",
   "mimetype": "text/x-python",
   "name": "python",
   "nbconvert_exporter": "python",
   "pygments_lexer": "ipython2",
   "version": "2.7.15"
  }
 },
 "nbformat": 4,
 "nbformat_minor": 2
}
