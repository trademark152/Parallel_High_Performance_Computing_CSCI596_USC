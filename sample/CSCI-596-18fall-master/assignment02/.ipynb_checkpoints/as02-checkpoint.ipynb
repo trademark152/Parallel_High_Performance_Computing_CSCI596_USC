{
 "cells": [
  {
   "cell_type": "markdown",
   "metadata": {},
   "source": [
    "# Assignment02\n",
    "## Part II\n",
    "2. (Fixed problem-size scaling) Run your global_pi.c with the fixed number of quadrature points, NBIN = 107, varying the number of compute nodes = 1, 2, 4 and 8 with processor per node 1 (i.e., the number of processors P = 1, 2, 4 and 8). Plot the fixed problem-size parallel efficiency as a function of P."
   ]
  },
  {
   "cell_type": "markdown",
   "metadata": {},
   "source": [
    "__global_pi.out__:\n",
    "```\n",
    "Number of processors: 8\n",
    "Value of Pi = 3.141593e+00\n",
    "Execution time (s) = 4.895091e-02\n",
    "Number of processors: 4\n",
    "Value of Pi = 3.141593e+00\n",
    "Execution time (s) = 5.103588e-02\n",
    "Number of processors: 2\n",
    "Value of Pi = 3.141593e+00\n",
    "Execution time (s) = 7.986498e-02\n",
    "Number of processors: 1\n",
    "Value of Pi = 3.141593e+00\n",
    "Execution time (s) = 1.413810e-01\n",
    "```"
   ]
  },
  {
   "cell_type": "code",
   "execution_count": 41,
   "metadata": {},
   "outputs": [],
   "source": [
    "import numpy as np\n",
    "from matplotlib import pyplot as plt\n",
    "import matplotlib"
   ]
  },
  {
   "cell_type": "code",
   "execution_count": 2,
   "metadata": {},
   "outputs": [],
   "source": [
    "time = np.array([14.13810, 7.986498, 5.103588, 4.895091])/100\n",
    "P = np.array([1,2,4,8])"
   ]
  },
  {
   "cell_type": "markdown",
   "metadata": {},
   "source": [
    "In fixed problem-size scaling, \n",
    "\n",
    "$$E_P = \\frac{T(W, 1)}{P \\,T(W,P)}$$\n",
    "\n",
    "\n"
   ]
  },
  {
   "cell_type": "code",
   "execution_count": 3,
   "metadata": {},
   "outputs": [],
   "source": [
    "E_tmp = np.ones(shape=time.shape)*time[0]/P\n",
    "E_p = E_tmp/time"
   ]
  },
  {
   "cell_type": "code",
   "execution_count": 44,
   "metadata": {},
   "outputs": [
    {
     "data": {
      "text/plain": [
       "Text(5,0.4,u'Measured')"
      ]
     },
     "execution_count": 44,
     "metadata": {},
     "output_type": "execute_result"
    },
    {
     "data": {
      "image/png": "[encoded data removed]",
      "text/plain": [
       "<matplotlib.figure.Figure at 0x11746e150>"
      ]
     },
     "metadata": {},
     "output_type": "display_data"
    }
   ],
   "source": [
    "matplotlib.rcParams['xtick.direction'] = 'in'\n",
    "matplotlib.rcParams['ytick.direction'] = 'in'\n",
    "plt.plot(P,E_p,'o--')\n",
    "plt.plot(range(10),np.ones(len(range(10))),'k')\n",
    "plt.xlabel('Number of process')\n",
    "plt.ylabel('Efficiency')\n",
    "plt.title('Fixed problem-size scaling')\n",
    "plt.xlim((0,9))\n",
    "plt.ylim((0,1.2))\n",
    "# plt.grid('on')\n",
    "plt.yticks(np.arange(0,1.2,0.05),('0','','','','0.2','','','','0.4','','','','0.6','','','','0.8','','','','1','','','','1.2'))\n",
    "plt.text(s='Ideal',x=5,y=1.02)\n",
    "plt.text(s='Measured',x=5,y=0.4)"
   ]
  },
  {
   "cell_type": "code",
   "execution_count": null,
   "metadata": {},
   "outputs": [],
   "source": []
  }
 ],
 "metadata": {
  "kernelspec": {
   "display_name": "Python 2",
   "language": "python",
   "name": "python2"
  },
  "language_info": {
   "codemirror_mode": {
    "name": "ipython",
    "version": 2
   },
   "file_extension": ".py",
   "mimetype": "text/x-python",
   "name": "python",
   "nbconvert_exporter": "python",
   "pygments_lexer": "ipython2",
   "version": "2.7.15"
  }
 },
 "nbformat": 4,
 "nbformat_minor": 2
}
